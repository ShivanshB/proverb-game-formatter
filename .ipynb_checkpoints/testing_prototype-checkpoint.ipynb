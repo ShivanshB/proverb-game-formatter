{
 "cells": [
  {
   "cell_type": "code",
   "execution_count": 1,
   "id": "f6890931",
   "metadata": {},
   "outputs": [],
   "source": [
    "import reportlab\n",
    "\n",
    "from reportlab.pdfgen import canvas\n",
    "from reportlab.lib.pagesizes import letter"
   ]
  },
  {
   "cell_type": "code",
   "execution_count": 12,
   "id": "6bf292c4",
   "metadata": {},
   "outputs": [],
   "source": [
    "# defining constants\n",
    "width, height = letter\n",
    "\n",
    "# half inch margins\n",
    "margin = 32"
   ]
  },
  {
   "cell_type": "code",
   "execution_count": 15,
   "id": "0c337aeb",
   "metadata": {},
   "outputs": [],
   "source": [
    "def draw_writable_margins(filename, margin):\n",
    "    c = canvas.Canvas(filename, pagesize=letter)\n",
    "    \n",
    "    x_start, y_start = margin, margin\n",
    "    x_width, y_height = width -  (2 * margin), height - (2 * margin)\n",
    "    \n",
    "    c.rect(x_start, y_start, x_width, y_height, stroke=1, fill=0)\n",
    "    \n",
    "    c.showPage()\n",
    "    c.save()"
   ]
  },
  {
   "cell_type": "code",
   "execution_count": 16,
   "id": "d829d484",
   "metadata": {},
   "outputs": [],
   "source": [
    "draw_writable_margins(\"test.pdf\", 36)"
   ]
  },
  {
   "cell_type": "code",
   "execution_count": 19,
   "id": "322d76bf",
   "metadata": {},
   "outputs": [],
   "source": [
    "def generate_puzzle(filename, margin, saying):\n",
    "    \n",
    "    x_l, x_h = margin, width - margin\n",
    "    y_l, y_h = margin, height - margin\n",
    "    \n",
    "    # add some checks on the length of the string\n",
    "    saying = list(saying.strip())\n",
    "    n = len(saying)\n",
    "    \n",
    "    "
   ]
  },
  {
   "cell_type": "code",
   "execution_count": 8,
   "id": "54cd7e30",
   "metadata": {},
   "outputs": [],
   "source": [
    "c.drawString(100, 100, \"test123 test123\")"
   ]
  },
  {
   "cell_type": "code",
   "execution_count": 9,
   "id": "2392b3c3",
   "metadata": {},
   "outputs": [],
   "source": [
    "c = canvas.Canvas(\"test.pdf\", pagesize=letter)\n",
    "c.showPage()"
   ]
  },
  {
   "cell_type": "code",
   "execution_count": 10,
   "id": "677bda2b",
   "metadata": {},
   "outputs": [],
   "source": [
    "c.save()"
   ]
  },
  {
   "cell_type": "code",
   "execution_count": 20,
   "id": "cb5453e0",
   "metadata": {},
   "outputs": [
    {
     "name": "stdout",
     "output_type": "stream",
     "text": [
      "['h', 'i', ' ', 't', 'h', 'i', 's', ' ', 'i', 's', ' ', 'a', ' ', 't', 'e', 's', 't', 't', 't']\n"
     ]
    }
   ],
   "source": [
    "generate_puzzle(\"test\", 36, \" hi this is a testtt  \")"
   ]
  },
  {
   "cell_type": "code",
   "execution_count": null,
   "id": "591a7d41",
   "metadata": {},
   "outputs": [],
   "source": []
  }
 ],
 "metadata": {
  "kernelspec": {
   "display_name": "Python 3",
   "language": "python",
   "name": "python3"
  },
  "language_info": {
   "codemirror_mode": {
    "name": "ipython",
    "version": 3
   },
   "file_extension": ".py",
   "mimetype": "text/x-python",
   "name": "python",
   "nbconvert_exporter": "python",
   "pygments_lexer": "ipython3",
   "version": "3.8.8"
  }
 },
 "nbformat": 4,
 "nbformat_minor": 5
}
