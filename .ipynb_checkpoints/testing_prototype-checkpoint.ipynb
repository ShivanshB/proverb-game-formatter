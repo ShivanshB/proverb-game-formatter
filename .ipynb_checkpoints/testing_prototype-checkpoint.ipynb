{
 "cells": [
  {
   "cell_type": "code",
   "execution_count": 42,
   "id": "f6890931",
   "metadata": {},
   "outputs": [],
   "source": [
    "import reportlab\n",
    "\n",
    "from reportlab.pdfgen import canvas\n",
    "from reportlab.lib.pagesizes import letter\n",
    "from reportlab.lib.units import mm\n",
    "from reportlab.pdfbase.pdfmetrics import stringWidth"
   ]
  },
  {
   "cell_type": "code",
   "execution_count": 2,
   "id": "8ec311ce",
   "metadata": {},
   "outputs": [
    {
     "name": "stdout",
     "output_type": "stream",
     "text": [
      "612.0 792.0\n"
     ]
    }
   ],
   "source": [
    "# defining constants\n",
    "width, height = letter\n",
    "print(width, height)\n",
    "\n",
    "# half inch margins\n",
    "margin = 32"
   ]
  },
  {
   "cell_type": "code",
   "execution_count": 3,
   "id": "29acdf2d",
   "metadata": {},
   "outputs": [],
   "source": [
    "def draw_writable_margins(filename, margin):\n",
    "    c = canvas.Canvas(filename, pagesize=letter)\n",
    "    \n",
    "    x_start, y_start = margin, margin\n",
    "    x_width, y_height = width -  (2 * margin), height - (2 * margin)\n",
    "    \n",
    "    c.rect(x_start, y_start, x_width, y_height, stroke=1, fill=0)\n",
    "    \n",
    "    c.showPage()\n",
    "    c.save()"
   ]
  },
  {
   "cell_type": "raw",
   "id": "5c5e4e29",
   "metadata": {},
   "source": [
    "draw_writable_margins(\"test.pdf\", 36)"
   ]
  },
  {
   "cell_type": "code",
   "execution_count": 112,
   "id": "322d76bf",
   "metadata": {},
   "outputs": [],
   "source": [
    "# params\n",
    "\n",
    "WIDTH = 612.0 # default pagesize letter\n",
    "HEIGHT = 792.0 # default pagesize letter\n",
    "MARGIN = 36.0\n",
    "\n",
    "TITLE_TEXT_SIZE = 25\n",
    "RECT_Y_START = 550 # distance from bottom of page that boxes/rect start --> should depend on other vars?\n",
    "\n",
    "BOX_LEN = 25 # space between boxes = BOX_LEN\n",
    "TRIANGLE_HEIGHT = 25\n",
    "\n",
    "BODY_FONT_SIZE = 12\n",
    "BODY_FONT = \"Helvetica\"\n",
    "BODY_FONT_BOLD = \"Helvetica-Bold\"\n",
    "\n",
    "CIRCLE_RADIUS = 22\n",
    "CIRCLE_SPACE = 5\n",
    "CIRCLE_Y = RECT_Y_START + TRIANGLE_HEIGHT + BOX_LEN + CIRCLE_RADIUS + 20 # 20 is tunable\n",
    "\n",
    "CHAR_TO_NUM = {'A': 1, 'B': 1, 'C': 1, \n",
    "               'D': 2, 'E': 2, 'F': 2,\n",
    "               'G': 3, 'H': 3, 'I': 3,\n",
    "               'J': 4, 'K': 4, 'L': 4,\n",
    "               'M': 5, 'N': 5, 'O': 5,\n",
    "               'P': 6, 'Q': 6, 'R': 6,\n",
    "               'S': 7, 'T': 7, 'U': 7,\n",
    "               'V': 8, 'W': 8,\n",
    "               'X': 9, 'Y': 9, 'Z': 9}\n",
    "\n",
    "CIRCLES = ['ABC','DEF','GHI','JKL','MNO','PQR','STU','VW','XYZ']\n",
    "#---------------------\n",
    "\n",
    "def generate_puzzle(filename, saying):\n",
    "    \n",
    "    # define variables for clarity\n",
    "    ch_per_line = int((WIDTH - (2 * MARGIN)) // BOX_LEN)\n",
    "    line_vertical_spacing = (TRIANGLE_HEIGHT + BOX_LEN) * 1.50\n",
    "    \n",
    "    # create page\n",
    "    c = canvas.Canvas(filename, pagesize=letter)\n",
    " \n",
    "    x_l, x_h = MARGIN, WIDTH - MARGIN\n",
    "    y_l, y_h = MARGIN, HEIGHT - MARGIN\n",
    "    x_center, y_center = (x_l + x_h)/2, (y_l + y_h)/2\n",
    "\n",
    "    # removing spaces from beginning and end, if any\n",
    "    saying = list(saying.upper().strip())\n",
    "    n = len(saying)\n",
    "    \n",
    "    # setting fonts for later\n",
    "    c.setFont(BODY_FONT, BODY_FONT_SIZE)\n",
    "    c.setFont(BODY_FONT_BOLD, BODY_FONT_SIZE)\n",
    "    \n",
    "    # chunkate into lines, assuming only single spaces\n",
    "    line_intervals = [] # intervals of the form (start, end) for each generated line\n",
    "    cur_line_interval = [0, None] \n",
    "    cur_len = 0 # length of the current line\n",
    "    prev_word_start = 0 # idx of the last word's first character\n",
    "    \n",
    "    for i in range(n):\n",
    "        # checking if this is the last character in the line\n",
    "        if cur_len == ch_per_line - 1:\n",
    "            # if last char in the line is a space\n",
    "            if saying[i] == ' ':\n",
    "                cur_line_interval[1] = i\n",
    "                line_intervals.append(cur_line_interval)\n",
    "                cur_line_interval = [i + 1, None]\n",
    "                prev_word_start = i + 1\n",
    "                cur_len = 0\n",
    "            else:\n",
    "                # if last char in the line is the end of the whole saying\n",
    "                if i == (n - 1):\n",
    "                    cur_line_interval[1] = i + 1\n",
    "                    line_intervals.append(cur_line_interval)\n",
    "                # if the last char in the line is the end of a word (and not end of saying)\n",
    "                elif saying[i + 1] == ' ':\n",
    "                    cur_line_interval[1] = i + 1\n",
    "                    line_intervals.append(cur_line_interval)\n",
    "                    cur_line_interval = [i + 2, None]\n",
    "                    cur_len = 0\n",
    "                # if we are currently breaking up a word\n",
    "                else:\n",
    "                    cur_line_interval[1] = prev_word_start - 1\n",
    "                    line_intervals.append(cur_line_interval)\n",
    "                    cur_line_interval = [prev_word_start, None]\n",
    "                    cur_len = i - prev_word_start + 1\n",
    "        # end of saying\n",
    "        elif i == (n-1):\n",
    "            cur_line_interval[1] = n\n",
    "            line_intervals.append(cur_line_interval)\n",
    "        # continue through letters\n",
    "        else:\n",
    "            if saying[i] == ' ':\n",
    "                prev_word_start = i + 1\n",
    "            cur_len += 1\n",
    "            \n",
    "    # splitting up saying into lines\n",
    "    lines = []\n",
    "    for i,j in line_intervals:\n",
    "        lines.append(saying[i:j])\n",
    "    \n",
    "    # draw a rectangle and triangle for each letter\n",
    "    for line_num, line in enumerate(lines):\n",
    "        for i, ch in enumerate(line):\n",
    "            if ch != ' ':\n",
    "                # bottom right x-coord of box\n",
    "                box_x = x_center + ((i - len(lines[line_num])/2)* BOX_LEN)\n",
    "                # bottom right y-coord of box\n",
    "                box_y= RECT_Y_START - (line_num * line_vertical_spacing)\n",
    "                # drawing box for letter\n",
    "                c.rect(box_x, box_y, BOX_LEN, BOX_LEN, stroke=1, fill=0)\n",
    "                \n",
    "                # bottom vertex\n",
    "                bottom_vx_x, bottom_vx_y = box_x + (BOX_LEN/2), box_y + BOX_LEN\n",
    "                # top left vertex\n",
    "                top_l_vx_x, top_l_vx_y = box_x, box_y + (BOX_LEN + TRIANGLE_HEIGHT)\n",
    "                # top right vertex\n",
    "                top_r_vx_x, top_r_vx_y = box_x + BOX_LEN, box_y + (BOX_LEN + TRIANGLE_HEIGHT)\n",
    "                \n",
    "                # draw lines connecting vertices\n",
    "                c.line(bottom_vx_x, bottom_vx_y, top_l_vx_x, top_l_vx_y)\n",
    "                c.line(bottom_vx_x, bottom_vx_y, top_r_vx_x, top_r_vx_y)\n",
    "                c.line(top_l_vx_x, top_l_vx_y, top_r_vx_x, top_r_vx_y)\n",
    "                \n",
    "                # finding center of triangle\n",
    "                tr_middle_x, tr_middle_y = bottom_vx_x, (top_l_vx_y + bottom_vx_y)/2\n",
    "                \n",
    "                # finding width of text for centering\n",
    "                num = str(CHAR_TO_NUM[ch])\n",
    "                text_width = stringWidth(num, BODY_FONT_BOLD, BODY_FONT_SIZE)\n",
    "                \n",
    "                # finding bottom left of text\n",
    "                text_x = tr_middle_x - (text_width/2)\n",
    "                text_y = tr_middle_y - (BODY_FONT_SIZE/4) # approximate, might need some fiddling\n",
    "                \n",
    "                # drawing in letter\n",
    "                c.drawString(text_x, text_y, num)\n",
    "\n",
    "    # draw circles\n",
    "    num_circles = len(CIRCLES)\n",
    "    for i, text in enumerate(CIRCLES):\n",
    "        # offset to center circles horizontally\n",
    "        offset = 0.5 * ((CIRCLE_RADIUS * 2) * (num_circles - 1) + (num_circles - 1) * CIRCLE_SPACE)\n",
    "                       \n",
    "        # circle center coords\n",
    "        circle_x = (WIDTH/2) + (i * (2 * CIRCLE_RADIUS + CIRCLE_SPACE)) - offset\n",
    "        circle_y = CIRCLE_Y\n",
    "        \n",
    "        # draw circle\n",
    "        c.circle(circle_x, circle_y, CIRCLE_RADIUS, stroke=1, fill=0)\n",
    "        \n",
    "        # finding width of text for centering\n",
    "        text_width = stringWidth(text, BODY_FONT_BOLD, BODY_FONT_SIZE)\n",
    "        text_x = circle_x - text_width/2\n",
    "        text_y = circle_y + BODY_FONT_SIZE * 0.20 # 0.40 is tunable\n",
    "        \n",
    "        # writing text\n",
    "        num = str(i)\n",
    "        c.drawString(text_x, text_y, text)\n",
    "        \n",
    "        # finding width of number for centering\n",
    "        num_width = stringWidth(num, BODY_FONT_BOLD, BODY_FONT_SIZE)\n",
    "        num_x = circle_x - num_width/2\n",
    "        num_y = circle_y - BODY_FONT_SIZE\n",
    "        \n",
    "        # writing number\n",
    "        c.drawString(num_x, num_y, num)\n",
    "        \n",
    "    \n",
    "    # temp to draw margin\n",
    "    x_width, y_height = WIDTH -  (2 * MARGIN), HEIGHT - (2 * MARGIN)\n",
    "    c.rect(MARGIN, MARGIN, x_width, y_height, stroke=1, fill=0)\n",
    "    \n",
    "    c.showPage()\n",
    "    c.save()"
   ]
  },
  {
   "cell_type": "code",
   "execution_count": 113,
   "id": "d8bd6e31",
   "metadata": {},
   "outputs": [],
   "source": [
    "generate_puzzle(\"test2.pdf\", \"bro bro like no wayy\")"
   ]
  },
  {
   "cell_type": "code",
   "execution_count": 114,
   "id": "54cd7e30",
   "metadata": {},
   "outputs": [
    {
     "ename": "NameError",
     "evalue": "name 'c' is not defined",
     "output_type": "error",
     "traceback": [
      "\u001b[0;31m---------------------------------------------------------------------------\u001b[0m",
      "\u001b[0;31mNameError\u001b[0m                                 Traceback (most recent call last)",
      "\u001b[0;32m<ipython-input-114-cfef4131b04e>\u001b[0m in \u001b[0;36m<module>\u001b[0;34m\u001b[0m\n\u001b[0;32m----> 1\u001b[0;31m \u001b[0mc\u001b[0m\u001b[0;34m.\u001b[0m\u001b[0mdrawString\u001b[0m\u001b[0;34m(\u001b[0m\u001b[0;36m100\u001b[0m\u001b[0;34m,\u001b[0m \u001b[0;36m100\u001b[0m\u001b[0;34m,\u001b[0m \u001b[0;34m\"test123 test123\"\u001b[0m\u001b[0;34m)\u001b[0m\u001b[0;34m\u001b[0m\u001b[0;34m\u001b[0m\u001b[0m\n\u001b[0m",
      "\u001b[0;31mNameError\u001b[0m: name 'c' is not defined"
     ]
    }
   ],
   "source": [
    "c.drawString(100, 100, \"test123 test123\")"
   ]
  },
  {
   "cell_type": "code",
   "execution_count": 109,
   "id": "2392b3c3",
   "metadata": {},
   "outputs": [],
   "source": [
    "c = canvas.Canvas(\"test.pdf\", pagesize=letter)\n",
    "c.showPage()"
   ]
  },
  {
   "cell_type": "code",
   "execution_count": 10,
   "id": "677bda2b",
   "metadata": {},
   "outputs": [],
   "source": [
    "c.save()"
   ]
  },
  {
   "cell_type": "code",
   "execution_count": 20,
   "id": "cb5453e0",
   "metadata": {},
   "outputs": [
    {
     "name": "stdout",
     "output_type": "stream",
     "text": [
      "['h', 'i', ' ', 't', 'h', 'i', 's', ' ', 'i', 's', ' ', 'a', ' ', 't', 'e', 's', 't', 't', 't']\n"
     ]
    }
   ],
   "source": [
    "generate_puzzle(\"test\", 36, \" hi this is a testtt  \")"
   ]
  },
  {
   "cell_type": "code",
   "execution_count": null,
   "id": "591a7d41",
   "metadata": {},
   "outputs": [],
   "source": []
  }
 ],
 "metadata": {
  "kernelspec": {
   "display_name": "Python 3",
   "language": "python",
   "name": "python3"
  },
  "language_info": {
   "codemirror_mode": {
    "name": "ipython",
    "version": 3
   },
   "file_extension": ".py",
   "mimetype": "text/x-python",
   "name": "python",
   "nbconvert_exporter": "python",
   "pygments_lexer": "ipython3",
   "version": "3.8.8"
  }
 },
 "nbformat": 4,
 "nbformat_minor": 5
}
